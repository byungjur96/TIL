{
 "cells": [
  {
   "cell_type": "markdown",
   "metadata": {},
   "source": [
    "# Chapter 2. 자연어와 단어의 분산 표현"
   ]
  },
  {
   "cell_type": "code",
   "execution_count": 10,
   "metadata": {},
   "outputs": [],
   "source": [
    "# 예제 코드를 위한 사전 작업\n",
    "import numpy as np"
   ]
  },
  {
   "cell_type": "markdown",
   "metadata": {},
   "source": [
    "### 2.1 자연어 처리란?\n",
    "- 자연어(Natural Language): 우리가 평소에 쓰는 말\n",
    "- 자연어 처리 (Natural Language Processing): 우리의 말을 컴퓨터에게 이해시키기 위한 기술(분야)\n",
    "- 컴퓨터에게 단어의 의미를 이해시키는 방법?\n",
    "    - 시소러스(유의어 사전)을 활용\n",
    "    - 통계 기반\n",
    "    - 추론 기반 (word2vec)"
   ]
  },
  {
   "cell_type": "markdown",
   "metadata": {},
   "source": [
    "### 2.2 시소러스\n",
    "- 시소러스: 각 단어의 관계를 **그래프 구조**로 정의한 유의어 사전. (ex. WordNet)\n",
    "- 시소러스의 문제점\n",
    "    - 시대 변화에 대응하기 어려움 (새로운 단어, 잊혀지는 옜말, 시대에 따라 의미가 변하는 단어)\n",
    "    - 구축에 엄청난 인적 비용이 발생\n",
    "    - 단어의 미묘한 차이를 표현할 수 없음 (비슷한 단어들이라도 미묘한 차이가 있는 법)"
   ]
  },
  {
   "cell_type": "markdown",
   "metadata": {},
   "source": [
    "### 2.3 통계 기반 기법\n",
    "- 말뭉치(corpus) : 자연어 처리 연구나 애플리케이션을 염두에 두고 수집된 텍스트 데이터. 텍스트 데이터에 대한 추가 정보가 포함되는 경우가 있음\n",
    "- 전처리(preprocessing): 텍스트 데이터를 단어로 분할하고 그 분할된 단어들을 단어 ID 목록으로 변환하는 일"
   ]
  },
  {
   "cell_type": "code",
   "execution_count": 6,
   "metadata": {},
   "outputs": [],
   "source": [
    "def preprocess(text):\n",
    "    text = text.lower()\n",
    "    # EOS(End Of Sentence)를 표현하기 위해 마침표 앞에 공백을 추가해준다\n",
    "    text = text.replace('.', ' .')\n",
    "    words = text.split()\n",
    "    word_to_id = {}\n",
    "    id_to_word = {}\n",
    "    idx = 0\n",
    "    \n",
    "    for word in words:\n",
    "        if word not in word_to_id:\n",
    "            new_id = idx\n",
    "            idx += 1\n",
    "            word_to_id[word] = new_id\n",
    "            id_to_word[new_id] = word\n",
    "            \n",
    "    corpus = np.array([word_to_id[w] for w in words])\n",
    "    \n",
    "    return corpus, word_to_id, id_to_word"
   ]
  },
  {
   "cell_type": "code",
   "execution_count": 40,
   "metadata": {},
   "outputs": [
    {
     "name": "stdout",
     "output_type": "stream",
     "text": [
      "[0 1 2 3 4 1 5 6]\n",
      "{'you': 0, 'say': 1, 'goodbye': 2, 'and': 3, 'i': 4, 'hello': 5, '.': 6}\n",
      "{0: 'you', 1: 'say', 2: 'goodbye', 3: 'and', 4: 'i', 5: 'hello', 6: '.'}\n"
     ]
    }
   ],
   "source": [
    "text = 'You say goodbye and I say hello.'\n",
    "corpus, word_to_id, id_to_word = preprocess(text)\n",
    "\n",
    "print(corpus)\n",
    "print(word_to_id)\n",
    "print(id_to_word)"
   ]
  },
  {
   "cell_type": "markdown",
   "metadata": {},
   "source": [
    "- 분산 표현(Distributional Representation)\n",
    "    - 단어를 '단어의 의미'를 정확하게 파악할 수 있는 벡터로 표현하는 것\n",
    "    - 고정 길이의 밀집 벡터(Dense Vector)로 표현\n",
    "    - '단어의 의미는 주변 단어에 의해 형성된다'는 분포가설(distributional hypothesis) 기반\n",
    "    - '단어 자체에는 의미가 없고, 그 단어가 사용된 '맥락'이 의미를 형성한다!\n",
    "- 통계 기반(Statistical based) 기법: 그 주변에 어떤 단어가 몇 번이나 등장하는지를 세어 집계하는 방법\n",
    "- 동시발생 행렬(co-occurrence matrix)\n",
    "    - 각 단어의 맥락에 해당하는 단어의 빈도로 단어들을 벡터로 표현한 행렬\n",
    "    - 윈도우 크기(window size): 맥락의 크기(주변 단어를 몇 개나 포함할지)"
   ]
  },
  {
   "cell_type": "code",
   "execution_count": 11,
   "metadata": {},
   "outputs": [],
   "source": [
    "def create_co_matrix(corpus, vocab_size, window_size=1):\n",
    "    corpus_size = len(corpus)\n",
    "    co_matrix = np.zeros((vocab_size, vocab_size), dtype=np.int32)\n",
    "    \n",
    "    for idx, word_id in enumerate(corpus):\n",
    "        # window size만큼 앞 뒤로 맥락을 확인한다\n",
    "        for i in range(1, window_size+1):\n",
    "            left_idx = idx - i\n",
    "            right_idx = idx + i\n",
    "            \n",
    "            if left_idx >= 0:\n",
    "                left_word_id = corpus[left_idx]\n",
    "                co_matrix[word_id, left_word_id] += 1\n",
    "                \n",
    "            if right_idx < corpus_size:\n",
    "                right_word_id = corpus[right_idx]\n",
    "                co_matrix[word_id, right_word_id] += 1\n",
    "                \n",
    "    return co_matrix"
   ]
  },
  {
   "cell_type": "code",
   "execution_count": 41,
   "metadata": {},
   "outputs": [
    {
     "name": "stdout",
     "output_type": "stream",
     "text": [
      "[[0 1 0 0 0 0 0]\n",
      " [1 0 1 0 1 1 0]\n",
      " [0 1 0 1 0 0 0]\n",
      " [0 0 1 0 1 0 0]\n",
      " [0 1 0 1 0 0 0]\n",
      " [0 1 0 0 0 0 1]\n",
      " [0 0 0 0 0 1 0]]\n"
     ]
    }
   ],
   "source": [
    "vocab_size = len(word_to_id)\n",
    "co_matrix = create_co_matrix(corpus, vocab_size)\n",
    "\n",
    "print(co_matrix)"
   ]
  },
  {
   "cell_type": "markdown",
   "metadata": {},
   "source": [
    "- 코사인 유사도(Cosine Similarity)\n",
    "    - 벡터의 유사도를 측정하는 방법 중 하나"
   ]
  },
  {
   "cell_type": "markdown",
   "metadata": {},
   "source": [
    "$$similarity (x,y) = {x∙y  \\over ||x||∙||y||} = {\n",
    "    {{x_1 y_1}+...+{x_n y_n}} \\over {\\sqrt {{{x_1}^2}+...+{x_n}^2}}{\\sqrt {{{y_1}^2}+...+{y_n}^2}}}$$"
   ]
  },
  {
   "cell_type": "code",
   "execution_count": 16,
   "metadata": {},
   "outputs": [],
   "source": [
    "def cos_similarity(x, y, eps=1e-8):\n",
    "    # 'Divide by Zero' 문제 해결을 위해 작은 값(eps)를 분자, 분모에 더해준다\n",
    "    nx = x / np.sqrt(np.sum(x**2) + eps)\n",
    "    ny = y / np.sqrt(np.sum(y**2) + eps)\n",
    "    \n",
    "    return np.dot(nx, ny)"
   ]
  },
  {
   "cell_type": "code",
   "execution_count": 42,
   "metadata": {},
   "outputs": [
    {
     "name": "stdout",
     "output_type": "stream",
     "text": [
      "0.7071067758832467\n"
     ]
    }
   ],
   "source": [
    "c0 = co_matrix[word_to_id['you']]\n",
    "c1 = co_matrix[word_to_id['i']]\n",
    "\n",
    "print(cos_similarity(c0, c1))"
   ]
  },
  {
   "cell_type": "code",
   "execution_count": 45,
   "metadata": {},
   "outputs": [],
   "source": [
    "def most_similar(query, word_to_id, id_to_word, word_matrix, top=5):\n",
    "    # 검색어가 corpus 안에 있는 지 확인한다\n",
    "    if query not in word_to_id:\n",
    "        print(\"{}(을)를 찾을 수 없습니다.\".format(query))\n",
    "        return\n",
    "    \n",
    "    print(\"[query] {}\".format(query))\n",
    "    query_id = word_to_id[query]\n",
    "    query_vec = word_matrix[query_id]\n",
    "    \n",
    "    # 코사인 유사도 계산\n",
    "    vocab_size = len(id_to_word)\n",
    "    similarity = np.zeros(vocab_size)\n",
    "    for i in range(vocab_size):\n",
    "        similarity[i] = cos_similarity(word_matrix[i], query_vec)\n",
    "        \n",
    "    count = 0\n",
    "    for i in (-1 * similarity).argsort():\n",
    "        if id_to_word[i] == query:\n",
    "            continue\n",
    "        print(\"{}: {}\".format(id_to_word[i], similarity[i]))\n",
    "        \n",
    "        count += 1\n",
    "        if count >= top:\n",
    "            return"
   ]
  },
  {
   "cell_type": "code",
   "execution_count": 46,
   "metadata": {},
   "outputs": [
    {
     "name": "stdout",
     "output_type": "stream",
     "text": [
      "[query] you\n",
      "goodbye: 0.7071067758832467\n",
      "i: 0.7071067758832467\n",
      "hello: 0.7071067758832467\n",
      "say: 0.0\n",
      "and: 0.0\n"
     ]
    }
   ],
   "source": [
    "most_similar('you', word_to_id, id_to_word, co_matrix, top = 5)"
   ]
  },
  {
   "cell_type": "markdown",
   "metadata": {},
   "source": [
    "cf. `argsort()` : numpy 배열의 원소를 오름 차순으로 정렬. (배열의 index를 반환)"
   ]
  },
  {
   "cell_type": "code",
   "execution_count": null,
   "metadata": {},
   "outputs": [],
   "source": []
  }
 ],
 "metadata": {
  "kernelspec": {
   "display_name": "Python 3",
   "language": "python",
   "name": "python3"
  },
  "language_info": {
   "codemirror_mode": {
    "name": "ipython",
    "version": 3
   },
   "file_extension": ".py",
   "mimetype": "text/x-python",
   "name": "python",
   "nbconvert_exporter": "python",
   "pygments_lexer": "ipython3",
   "version": "3.7.6"
  }
 },
 "nbformat": 4,
 "nbformat_minor": 4
}
